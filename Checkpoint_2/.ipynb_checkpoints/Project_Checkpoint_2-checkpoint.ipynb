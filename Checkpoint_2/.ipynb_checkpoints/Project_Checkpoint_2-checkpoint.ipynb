{
 "cells": [
  {
   "cell_type": "markdown",
   "metadata": {
    "id": "ULsf1jkyi3sn"
   },
   "source": [
    "# *Init*"
   ]
  },
  {
   "cell_type": "code",
   "execution_count": 1,
   "metadata": {
    "id": "NxRQB7x6VRih"
   },
   "outputs": [],
   "source": [
    "#@title Imports\n",
    "\n",
    "import numpy as np\n",
    "import scipy as sp\n",
    "import matplotlib.pyplot as plt\n",
    "import pandas as pd\n",
    "import cv2\n",
    "import os\n",
    "import tensorflow as tf\n",
    "from tensorflow.keras import layers\n",
    "from tensorflow.keras.models import Sequential\n",
    "from tensorflow.keras.layers import Conv2D, MaxPooling2D, Dense, Flatten\n",
    "from tensorflow.keras.preprocessing import image\n",
    "from tensorflow.keras.preprocessing.image import ImageDataGenerator\n",
    "from sklearn.model_selection import train_test_split"
   ]
  },
  {
   "cell_type": "code",
   "execution_count": 2,
   "metadata": {
    "colab": {
     "background_save": true,
     "base_uri": "https://localhost:8080/"
    },
    "id": "0a1A9ep3tgSF",
    "outputId": "3b8a02a1-7f07-486f-e3f1-e6fe0164729f"
   },
   "outputs": [],
   "source": [
    "# #@title Mount Data (For Google Colab)\n",
    "# # Mount data drive\n",
    "\n",
    "# from google.colab import drive\n",
    "# drive.mount('/content/drive/', force_remount=True)\n",
    "# %cd /content/drive/MyDrive/CPSC4300-ADS-Project"
   ]
  },
  {
   "cell_type": "markdown",
   "metadata": {
    "id": "0TVFToS1fJLn"
   },
   "source": [
    "# **Unhealthy Tree Detection in Segmented Drone Footage via Machine Learning**\n",
    "**Clemson University | Fall 2023**<br>\n",
    "**Authors:** Scott Logan, Lisa Umatoni, Mostafa Saberian, Ian McCall, Neil Kuehn\n"
   ]
  },
  {
   "cell_type": "markdown",
   "metadata": {
    "id": "-CPi2tAImOSu"
   },
   "source": [
    "NOTES:\n",
    "\n",
    "Look into adapting a pretrained model, such as VGG or Resnet, and retraining only the last few layers."
   ]
  },
  {
   "cell_type": "markdown",
   "metadata": {
    "id": "8gYgXQL_jooH"
   },
   "source": [
    "# **Project Goals!**\n",
    "\n",
    "## The Mission\n",
    "In this project, our goal is to analyze segmented drone footage to locate and annotate unhealthy trees found within the images using a Machine Learning model.\n",
    "\n",
    "\n",
    "### To Do\n",
    "- Finish Data Cleaning Methods\n",
    "- Implement CNNs 2,3\n",
    "- Try implementing 4: Look into adapting a pretrained model, such as VGG or Resnet, and retraining only the last few layers."
   ]
  },
  {
   "cell_type": "markdown",
   "metadata": {
    "id": "Onhj_dQVjYmi"
   },
   "source": [
    "# **Data Summary**"
   ]
  },
  {
   "cell_type": "markdown",
   "metadata": {
    "id": "w4o8pbcejfUE"
   },
   "source": [
    "The provided data set is a total of 60 images of trees, with 37 healthy trees and 23 sick tree images given. The main unit of analysis for determining whether a tree is sick or not is color. Healthy trees are greener and darker, whereas sick trees are yellowed and lighter. \n",
    "\n",
    "Note that dead areas, such as bare tree branches, are not counted as sick."
   ]
  },
  {
   "cell_type": "markdown",
   "metadata": {
    "id": "i3S3N6DOimCZ"
   },
   "source": [
    "# **Data Cleaning Strategies**"
   ]
  },
  {
   "cell_type": "markdown",
   "metadata": {
    "id": "gnh8cb4ejJ5S"
   },
   "source": [
    "In a photograph, there is plenty of noise that may distract a Machine Learning Model from the data that is being represented. As such, it may be beneficial to perform data cleaning steps before training or predicting using the model.\n",
    "\n",
    "\n",
    "We have decided to implement the following data cleaning steps, and test the model's performance using various combinations of these steps:\n",
    "\n",
    "**Greyscale:** Normalize each pixel into a single grey value\n",
    "\n",
    "**Isolate Hue:** Isolate the Red channel of each pixel\n",
    "> Tree health is largely defined by yellowing, which in an RGB value is defined by an increase in the Red value. As such, we may be interested primarily in the Red channel, and may increase model accuracy by isolating or at least exaggerating the Red channel of images during processing.\n",
    "\n",
    "**Omit Values Beyond Range of Interest:** Remove information likely to confuse the model\n",
    "> Areas of images with red values that are too high are likely to be unrelated to tree data, so they should be omitted\n"
   ]
  },
  {
   "cell_type": "code",
   "execution_count": 3,
   "metadata": {
    "id": "7_JyuzU2W1-a"
   },
   "outputs": [],
   "source": [
    "#@title Greyscale\n",
    "def greyscale(input_img):\n",
    "    output_img = cv2.cvtColor(input_img, cv2.COLOR_BGR2GRAY)\n",
    "    return output_img"
   ]
  },
  {
   "cell_type": "code",
   "execution_count": 4,
   "metadata": {
    "id": "9hRN35l-gQv9"
   },
   "outputs": [],
   "source": [
    "#@title Normalize Saturation and Value:\n",
    "def normalize_saturation_value(input_img):\n",
    "    # Convert the image from BGR to HSV color space\n",
    "    hsv_image = image.rgb_to_hsv(input_img)\n",
    "    #hsv_image = cv2.cvtColor(input_img, cv2.COLOR_BGR2HSV)\n",
    "\n",
    "    # Split the HSV image into separate channels\n",
    "    h, s, v = cv2.split(hsv_image)\n",
    "\n",
    "    # Normalize the saturation and value channels\n",
    "    s = np.uint8(np.clip((s * 1.2), 0, 255))\n",
    "    v = np.uint8(np.clip((v * 1.2), 0, 255))\n",
    "\n",
    "    # Merge the normalized channels back into an HSV image\n",
    "    hsv_image = cv2.merge([h, s, v])\n",
    "\n",
    "    # Convert the HSV image back to BGR color space\n",
    "    output_image = cv2.cvtColor(hsv_image, cv2.COLOR_HSV2BGR)\n",
    "\n",
    "    return output_image"
   ]
  },
  {
   "cell_type": "code",
   "execution_count": 5,
   "metadata": {
    "id": "GwsxFs539HWH"
   },
   "outputs": [],
   "source": [
    "#@title Isolate Hue:\n",
    "def isolate_hue(input_img):\n",
    "    \n",
    "    # Exaggerate the red channel by decreasing blue and green by 80%\n",
    "    output_img = input_img[:, :, :2] * 0.2\n",
    "\n",
    "    return output_img"
   ]
  },
  {
   "cell_type": "code",
   "execution_count": 6,
   "metadata": {
    "id": "EBhu2OF_hvTE"
   },
   "outputs": [],
   "source": [
    "#@title Omit Unwanted Pixel Data Beyond Range of Interest\n",
    "width = 225\n",
    "height = 400\n",
    "threshold_excess_red = 20\n",
    "threshold_green_lower_bound = 20\n",
    "\n",
    "def omit_unwanted_ranges(input_img,img_width = width, img_height = height):\n",
    "    img_pixels = input_img.load()\n",
    "    for i in range(img_height):\n",
    "        for j in range(img_width):\n",
    "            r,g,b = img_pixels[i,j]\n",
    "            if (g < threshold_green_lower_bound):\n",
    "                r = 0\n",
    "                g = 0\n",
    "            if (r > threshold_excess_red):\n",
    "                r = 0\n",
    "                g=0\n",
    "            b = 0\n",
    "            \n",
    "    \n",
    "    output_img = input_img\n",
    "    return output_img"
   ]
  },
  {
   "cell_type": "code",
   "execution_count": 7,
   "metadata": {
    "id": "dYYmUAo9jROA"
   },
   "outputs": [],
   "source": [
    "#@title Resize Images\n",
    "\n",
    "def resize_img(input_img, targetwidth, targetheight):\n",
    "    output_img = tf.image.resize(input_img, [targetwidth, targetheight])\n",
    "    return output_img"
   ]
  },
  {
   "cell_type": "markdown",
   "metadata": {
    "id": "drkqG8hPivTd"
   },
   "source": [
    "# **Initial Model:** Convolutional Neural Network\n",
    "\n",
    "We considered a number of different models for this project, choosing CNN as our initial model selection:\n",
    "- **-> Convolutional Neural Network (CNN):** Suitable for classifying photos by visible features, which we plan to use by training the CNN to detect color patterns typical of sick trees.\n",
    "- **Clustering Model:** May be useful to detect multiple instances of sick trees within an image, using elbow method to determine number of sick tree instances.\n",
    "- **Classification Model:** Suitable for binary response values, which may be useful to classify healthy vs. sick.\n",
    "\n",
    "\n",
    "\n",
    "## Model Implementations\n",
    "\n",
    "A few different CNN implementations will be tested, primarily as an exploration of how CNNs work.\n",
    "\n",
    "- Implementation 1: Brute-Force Classification Approach\n",
    "\n",
    "\n",
    "- Implementation 2: \n",
    "\n",
    "\n",
    "- Implementation 3?: Repurpose trained model"
   ]
  },
  {
   "cell_type": "markdown",
   "metadata": {
    "id": "fD1l_um-leEw"
   },
   "source": [
    "### Implementation 1: Brute-Force Classification Approach\n",
    "\n",
    "In our first implementation, the Brute-Force Classification Approach, all we will be doing is passing the healthy images and the sick images into a CNN and training it to categorize the images into healthy and sick. This approach is primarily to ensure that we can construct a functioning CNN model as a baseline before attempting more involved strategies.\n",
    "\n",
    "- Training Data:\n",
    "  - Cleaning Steps: Resize Images\n",
    "- Model Architecture\n",
    "  - Convolutional Layers: \n",
    "  - Two Pooling Layers: \n",
    "  - Two Dense Layers:\n",
    "    - 128-unit Relu layer: Learn non-linear transformations of features to capture complex relationships between features.\n",
    "    - 1-unit Sigmoid layer: Filters output into a single binary value: 0 for healthy (lacks sick features), 1 for sick (contains sick features)"
   ]
  },
  {
   "cell_type": "markdown",
   "metadata": {
    "id": "Fv7jR6-iyMSs"
   },
   "source": []
  },
  {
   "cell_type": "code",
   "execution_count": 15,
   "metadata": {},
   "outputs": [],
   "source": [
    "# Define Data Cleaning step for Model\n",
    "default_width, default_height = 225, 225\n",
    "default_size = (default_width, default_height)\n",
    "def clean_data(input_img, resize_width=default_width, resize_height=default_height):\n",
    "    clean_img = input_img\n",
    "    \n",
    "    # Apply Data Cleaning Functions\n",
    "    clean_img = resize_img(clean_img, resize_width, resize_height)\n",
    "    \n",
    "    output_img = clean_img\n",
    "    return output_img"
   ]
  },
  {
   "cell_type": "code",
   "execution_count": 16,
   "metadata": {},
   "outputs": [],
   "source": [
    "# Define Data Augmentation step for model\n",
    "# Apply a number of random transformations on data set to increase the model's accuracy on more general data.\n",
    "# Chosen transformations: rotations, width-shift, height-shift, shear, zoom, horizontal flips\n",
    "train_datagen = ImageDataGenerator(\n",
    "    rescale=1./255,\n",
    "    rotation_range=20,\n",
    "    width_shift_range=0.1,\n",
    "    height_shift_range=0.1,\n",
    "    shear_range=0.1,\n",
    "    zoom_range=0.1,\n",
    "    horizontal_flip=True,\n",
    "    validation_split=0.2,\n",
    "    preprocessing_function=clean_data\n",
    ")"
   ]
  },
  {
   "cell_type": "code",
   "execution_count": 29,
   "metadata": {},
   "outputs": [
    {
     "name": "stdout",
     "output_type": "stream",
     "text": [
      "Found 49 images belonging to 2 classes.\n",
      "Found 11 images belonging to 2 classes.\n",
      "Epoch 1/10\n",
      "2/2 [==============================] - 10s 4s/step - loss: 6.4979 - accuracy: 0.6122 - val_loss: 1.7770 - val_accuracy: 0.6364\n",
      "Epoch 2/10\n",
      "2/2 [==============================] - 8s 3s/step - loss: 3.9051 - accuracy: 0.5102 - val_loss: 2.0478 - val_accuracy: 0.3636\n",
      "Epoch 3/10\n",
      "2/2 [==============================] - 7s 5s/step - loss: 1.6152 - accuracy: 0.3878 - val_loss: 0.6539 - val_accuracy: 0.6364\n",
      "Epoch 4/10\n",
      "2/2 [==============================] - 7s 3s/step - loss: 0.6753 - accuracy: 0.6122 - val_loss: 0.6283 - val_accuracy: 0.6364\n",
      "Epoch 5/10\n",
      "2/2 [==============================] - 8s 3s/step - loss: 0.6537 - accuracy: 0.6122 - val_loss: 0.6305 - val_accuracy: 0.6364\n",
      "Epoch 6/10\n",
      "2/2 [==============================] - 8s 3s/step - loss: 0.6340 - accuracy: 0.6122 - val_loss: 0.6152 - val_accuracy: 0.6364\n",
      "Epoch 7/10\n",
      "2/2 [==============================] - 8s 5s/step - loss: 0.6420 - accuracy: 0.6122 - val_loss: 0.6307 - val_accuracy: 0.6364\n",
      "Epoch 8/10\n",
      "2/2 [==============================] - 8s 6s/step - loss: 0.6638 - accuracy: 0.7347 - val_loss: 0.6225 - val_accuracy: 0.6364\n",
      "Epoch 9/10\n",
      "2/2 [==============================] - 8s 3s/step - loss: 0.6475 - accuracy: 0.6122 - val_loss: 0.6015 - val_accuracy: 0.6364\n",
      "Epoch 10/10\n",
      "2/2 [==============================] - 7s 5s/step - loss: 0.6337 - accuracy: 0.6122 - val_loss: 0.6493 - val_accuracy: 0.7273\n"
     ]
    }
   ],
   "source": [
    "# Use tensorflow's Data Generator to create training and validation sets\n",
    "train_generator = train_datagen.flow_from_directory(\n",
    "    'data/data_model_0',\n",
    "    target_size=(default_width, default_height),\n",
    "    batch_size=32,\n",
    "    class_mode='categorical',\n",
    "    subset='training'\n",
    ")\n",
    "validation_generator = train_datagen.flow_from_directory(\n",
    "    'data/data_model_0',\n",
    "    target_size=(default_width, default_height),\n",
    "    batch_size=32,\n",
    "    class_mode='categorical',\n",
    "    subset='validation'\n",
    ")\n",
    "\n",
    "# Build model with chosen layers\n",
    "model = tf.keras.models.Sequential([\n",
    "    tf.keras.layers.Conv2D(32, (3, 3), activation='relu', input_shape=(224, 224, 3)),\n",
    "    tf.keras.layers.MaxPooling2D(2, 2),\n",
    "    tf.keras.layers.Conv2D(64, (3, 3), activation='relu'),\n",
    "    tf.keras.layers.MaxPooling2D(2, 2),\n",
    "    tf.keras.layers.Conv2D(128, (3, 3), activation='relu'),\n",
    "    tf.keras.layers.MaxPooling2D(2, 2),\n",
    "    tf.keras.layers.Flatten(),\n",
    "    tf.keras.layers.Dense(512, activation='relu'),\n",
    "    tf.keras.layers.Dense(2, activation='softmax')\n",
    "])\n",
    "\n",
    "# Compile the model\n",
    "model.compile(loss='categorical_crossentropy', optimizer='adam', metrics=['accuracy'])\n",
    "\n",
    "# Train the model\n",
    "history = model.fit(train_generator, epochs=10, validation_data=validation_generator)"
   ]
  },
  {
   "cell_type": "markdown",
   "metadata": {
    "id": "_qL4WiqIllya"
   },
   "source": [
    "#### **Results and Discussion:** Brute-Force Classification Approach"
   ]
  },
  {
   "cell_type": "code",
   "execution_count": 31,
   "metadata": {},
   "outputs": [
    {
     "name": "stdout",
     "output_type": "stream",
     "text": [
      "1/1 [==============================] - 1s 1s/step - loss: 0.6504 - accuracy: 0.6364\n",
      "Validation loss: 0.6504026651382446\n",
      "Validation accuracy: 0.6363636255264282\n"
     ]
    }
   ],
   "source": [
    "# Get the number of validation steps\n",
    "validation_steps = validation_generator.samples / validation_generator.batch_size\n",
    "\n",
    "# Evaluate the model on the validation data\n",
    "loss, accuracy = model.evaluate(validation_generator)\n",
    "\n",
    "print(f\"Validation loss: {loss}\")\n",
    "print(f\"Validation accuracy: {accuracy}\")"
   ]
  },
  {
   "cell_type": "markdown",
   "metadata": {},
   "source": [
    "With an end validation loss of 0.620 and a validation accuracy of 63.6%, the model appears to be fairly effective at classifying the images into healthy vs. sick.\n",
    "\n",
    "However, I don't have much confidence in a result this good for the **Brute-Force** Classification Approach. During training, the model's accuracy was high from the start and remained about equally this high throughout training. To me, this is highly suspicious."
   ]
  },
  {
   "cell_type": "code",
   "execution_count": 32,
   "metadata": {},
   "outputs": [
    {
     "data": {
      "image/png": "[encoded data removed]",
      "text/plain": [
       "<Figure size 1200x400 with 2 Axes>"
      ]
     },
     "metadata": {},
     "output_type": "display_data"
    }
   ],
   "source": [
    "train_loss = history.history['loss']\n",
    "train_accuracy = history.history['accuracy']\n",
    "validation_loss = history.history['val_loss']\n",
    "validation_accuracy = history.history['val_accuracy']\n",
    "\n",
    "# Plot Loss and Accuracy throughout training\n",
    "fig, (ax1, ax2) = plt.subplots(1, 2, figsize=(12, 4))\n",
    "\n",
    "ax1.plot(train_loss, label='Training Loss')\n",
    "ax1.plot(validation_loss, label='Validation Loss')\n",
    "ax1.set_title('Loss vs. Epochs')\n",
    "ax1.set_xlabel('Epochs')\n",
    "ax1.set_ylabel('Loss')\n",
    "ax1.legend()\n",
    "\n",
    "ax2.plot(train_accuracy, label='Training Accuracy')\n",
    "ax2.plot(validation_accuracy, label='Validation Accuracy')\n",
    "ax2.set_title('Accuracy vs. Epochs')\n",
    "ax2.set_xlabel('Epochs')\n",
    "ax2.set_ylabel('Accuracy')\n",
    "ax2.legend()\n",
    "\n",
    "# Show the plots\n",
    "plt.tight_layout()\n",
    "plt.show()"
   ]
  },
  {
   "cell_type": "markdown",
   "metadata": {},
   "source": [
    "I suspect that due to the limited sample size of our data (only 60 images is not much), there are trends in the images that correlate to the healthy vs sick image samples that are unrelated to the sick features of the trees. For example, visually inspecting the data shows that many of the healthy tree images contain the sky, and none of the sick images do. The healthy tree images also happen to be on average more exposed than sick images.\n",
    "\n",
    "Because this is a classification approach, a visualization technique other than image labeling is not possible. As such, we'll need to modify our model to classify images as well as locate the sick features."
   ]
  },
  {
   "cell_type": "markdown",
   "metadata": {},
   "source": [
    "### Implementation 2: "
   ]
  }
 ],
 "metadata": {
  "colab": {
   "collapsed_sections": [
    "0TVFToS1fJLn",
    "8gYgXQL_jooH"
   ],
   "provenance": []
  },
  "kernelspec": {
   "display_name": "Python 3 (ipykernel)",
   "language": "python",
   "name": "python3"
  },
  "language_info": {
   "codemirror_mode": {
    "name": "ipython",
    "version": 3
   },
   "file_extension": ".py",
   "mimetype": "text/x-python",
   "name": "python",
   "nbconvert_exporter": "python",
   "pygments_lexer": "ipython3",
   "version": "3.9.16"
  }
 },
 "nbformat": 4,
 "nbformat_minor": 1
}
