{
 "cells": [
  {
   "cell_type": "markdown",
   "metadata": {
    "id": "ULsf1jkyi3sn"
   },
   "source": [
    "# *Init*"
   ]
  },
  {
   "cell_type": "code",
   "execution_count": 1,
   "metadata": {
    "id": "NxRQB7x6VRih"
   },
   "outputs": [],
   "source": [
    "#@title Imports\n",
    "\n",
    "import numpy as np\n",
    "import scipy as sp\n",
    "import matplotlib.pyplot as plt\n",
    "import pandas as pd\n",
    "import cv2\n",
    "import os\n",
    "import tensorflow as tf\n",
    "from tensorflow.keras import layers\n",
    "from tensorflow.keras.models import Sequential\n",
    "from tensorflow.keras.layers import Conv2D, MaxPooling2D, Dense, Flatten\n",
    "from tensorflow.keras.preprocessing import image\n",
    "from tensorflow.keras.preprocessing.image import ImageDataGenerator\n",
    "from sklearn.model_selection import train_test_split"
   ]
  },
  {
   "cell_type": "code",
   "execution_count": 2,
   "metadata": {
    "colab": {
     "background_save": true,
     "base_uri": "https://localhost:8080/"
    },
    "id": "0a1A9ep3tgSF",
    "outputId": "3b8a02a1-7f07-486f-e3f1-e6fe0164729f"
   },
   "outputs": [],
   "source": [
    "# #@title Mount Data (For Google Colab)\n",
    "# # Mount data drive\n",
    "\n",
    "# from google.colab import drive\n",
    "# drive.mount('/content/drive/', force_remount=True)\n",
    "# %cd /content/drive/MyDrive/CPSC4300-ADS-Project"
   ]
  },
  {
   "cell_type": "markdown",
   "metadata": {
    "id": "0TVFToS1fJLn"
   },
   "source": [
    "# **Unhealthy Tree Detection in Segmented Drone Footage via Machine Learning**\n",
    "**Clemson University | Fall 2023**<br>\n",
    "**Authors:** Scott Logan, Lisa Umatoni, Mostafa Saberian, Ian McCall, Neil Kuehn\n"
   ]
  },
  {
   "cell_type": "markdown",
   "metadata": {
    "id": "-CPi2tAImOSu"
   },
   "source": [
    "NOTES:\n",
    "\n",
    "Look into adapting a pretrained model, such as VGG or Resnet, and retraining only the last few layers."
   ]
  },
  {
   "cell_type": "markdown",
   "metadata": {
    "id": "8gYgXQL_jooH"
   },
   "source": [
    "# **Project Goals!**\n",
    "\n",
    "## The Mission\n",
    "In this project, our goal is to analyze segmented drone footage to locate and annotate unhealthy trees found within the images using a Machine Learning model.\n",
    "\n",
    "\n",
    "### To Do\n",
    "- Finish Data Cleaning Methods\n",
    "- Implement CNNs 2,3\n",
    "- Try implementing 4: Look into adapting a pretrained model, such as VGG or Resnet, and retraining only the last few layers."
   ]
  },
  {
   "cell_type": "markdown",
   "metadata": {
    "id": "Onhj_dQVjYmi"
   },
   "source": [
    "# **Data Summary**"
   ]
  },
  {
   "cell_type": "markdown",
   "metadata": {
    "id": "w4o8pbcejfUE"
   },
   "source": [
    "The provided data set is a total of 60 images of trees, with 37 healthy trees and 23 sick tree images given. The main unit of analysis for determining whether a tree is sick or not is color. Healthy trees are greener and darker, whereas sick trees are yellowed and lighter. \n",
    "\n",
    "Note that dead areas, such as bare tree branches, are not counted as sick."
   ]
  },
  {
   "cell_type": "code",
   "execution_count": 31,
   "metadata": {},
   "outputs": [
    {
     "name": "stdout",
     "output_type": "stream",
     "text": [
      "Did not find file: data/trees/DJI_0038.JPG\n",
      "Did not find file: data/trees/DJI_0039.JPG\n",
      "Did not find file: data/trees/DJI_0040.JPG\n",
      "Did not find file: data/trees/DJI_0041.JPG\n"
     ]
    }
   ],
   "source": [
    "# Load All Images into Dataframe\n",
    "def load_image(path):\n",
    "    return_img = None\n",
    "    try:\n",
    "        return_img = image.load_img(path)\n",
    "    except:\n",
    "        print(\"Did not find file: \" + path)\n",
    "    \n",
    "    return return_img\n",
    "\n",
    "def get_full_path(name):\n",
    "    return str(\"data/trees/\" + name)\n",
    "\n",
    "img_df = pd.read_json(\"data/img_metadata.json\", dtype={'x': float, 'y': float, 'width': float, 'height': float})\n",
    "img_df[\"file_name\"] = img_df[\"file_name\"].map(get_full_path)\n",
    "img_df[\"image_data\"] = img_df[\"file_name\"].map(load_image)"
   ]
  },
  {
   "cell_type": "code",
   "execution_count": 34,
   "metadata": {},
   "outputs": [
    {
     "data": {
      "text/plain": [
       "file_name          object\n",
       "classification     object\n",
       "x                 float64\n",
       "y                 float64\n",
       "width             float64\n",
       "height            float64\n",
       "image_data         object\n",
       "dtype: object"
      ]
     },
     "execution_count": 34,
     "metadata": {},
     "output_type": "execute_result"
    }
   ],
   "source": [
    "img_df.dtypes"
   ]
  },
  {
   "cell_type": "markdown",
   "metadata": {
    "id": "i3S3N6DOimCZ"
   },
   "source": [
    "# **Data Cleaning Strategies**"
   ]
  },
  {
   "cell_type": "markdown",
   "metadata": {
    "id": "gnh8cb4ejJ5S"
   },
   "source": [
    "In a photograph, there is plenty of noise that may distract a Machine Learning Model from the data that is being represented. As such, it may be beneficial to perform data cleaning steps before training or predicting using the model.\n",
    "\n",
    "\n",
    "We have decided to implement the following data cleaning steps, and test the model's performance using various combinations of these steps:\n",
    "\n",
    "**Greyscale:** Normalize each pixel into a single grey value\n",
    "\n",
    "**Isolate Hue:** Isolate the Red channel of each pixel\n",
    "> Tree health is largely defined by yellowing, which in an RGB value is defined by an increase in the Red value. As such, we may be interested primarily in the Red channel, and may increase model accuracy by isolating or at least exaggerating the Red channel of images during processing.\n",
    "\n",
    "**Omit Values Beyond Range of Interest:** Remove information likely to confuse the model\n",
    "> Areas of images with red values that are too high are likely to be unrelated to tree data, so they should be omitted.\n",
    "\n"
   ]
  },
  {
   "cell_type": "code",
   "execution_count": 25,
   "metadata": {
    "id": "7_JyuzU2W1-a"
   },
   "outputs": [],
   "source": [
    "#@title Greyscale\n",
    "def greyscale(input_img):\n",
    "    output_img = cv2.cvtColor(input_img, cv2.COLOR_BGR2GRAY)\n",
    "    return output_img"
   ]
  },
  {
   "cell_type": "code",
   "execution_count": 26,
   "metadata": {
    "id": "9hRN35l-gQv9"
   },
   "outputs": [],
   "source": [
    "#@title Normalize Saturation and Value:\n",
    "def normalize_saturation_value(input_img):\n",
    "    # Convert the image from BGR to HSV color space\n",
    "    hsv_image = image.rgb_to_hsv(input_img)\n",
    "    #hsv_image = cv2.cvtColor(input_img, cv2.COLOR_BGR2HSV)\n",
    "\n",
    "    # Split the HSV image into separate channels\n",
    "    h, s, v = cv2.split(hsv_image)\n",
    "\n",
    "    # Normalize the saturation and value channels\n",
    "    s = np.uint8(np.clip((s * 1.2), 0, 255))\n",
    "    v = np.uint8(np.clip((v * 1.2), 0, 255))\n",
    "\n",
    "    # Merge the normalized channels back into an HSV image\n",
    "    hsv_image = cv2.merge([h, s, v])\n",
    "\n",
    "    # Convert the HSV image back to BGR color space\n",
    "    output_image = cv2.cvtColor(hsv_image, cv2.COLOR_HSV2BGR)\n",
    "\n",
    "    return output_image"
   ]
  },
  {
   "cell_type": "code",
   "execution_count": 27,
   "metadata": {
    "id": "GwsxFs539HWH"
   },
   "outputs": [],
   "source": [
    "#@title Isolate Hue:\n",
    "def isolate_hue(input_img):\n",
    "    \n",
    "    # Exaggerate the red channel by decreasing blue and green by 80%\n",
    "    output_img = input_img[:, :, :2] * 0.2\n",
    "\n",
    "    return output_img"
   ]
  },
  {
   "cell_type": "code",
   "execution_count": 101,
   "metadata": {
    "id": "EBhu2OF_hvTE"
   },
   "outputs": [],
   "source": [
    "#@title Omit Unwanted Pixel Data Beyond Range of Interest\n",
    "width = 225\n",
    "height = 400\n",
    "threshold_excess_red = 20\n",
    "threshold_green_lower_bound = 20\n",
    "\n",
    "def omit_unwanted_ranges(input_img,img_width = width, img_height = height):\n",
    "    img_pixels = input_img.load()\n",
    "    for i in range(img_height):\n",
    "        for j in range(img_width):\n",
    "            r,g,b = img_pixels[i,j]\n",
    "            if (g < threshold_green_lower_bound):\n",
    "                r = 0\n",
    "                g = 0\n",
    "            if (r > threshold_excess_red):\n",
    "                r = 0\n",
    "                g=0\n",
    "            b = 0\n",
    "            \n",
    "    \n",
    "    output_img = input_img\n",
    "    return output_img"
   ]
  },
  {
   "cell_type": "code",
   "execution_count": 102,
   "metadata": {
    "id": "dYYmUAo9jROA"
   },
   "outputs": [],
   "source": [
    "#@title Resize Images\n",
    "\n",
    "def resize_img(input_img, targetwidth, targetheight):\n",
    "    output_img = tf.image.resize(input_img, [targetwidth, targetheight])\n",
    "    return output_img"
   ]
  },
  {
   "cell_type": "markdown",
   "metadata": {
    "id": "drkqG8hPivTd"
   },
   "source": [
    "# **Initial Model:** Convolutional Neural Network\n",
    "\n",
    "We considered a number of different models for this project, choosing CNN as our initial model selection:\n",
    "- **-> Convolutional Neural Network (CNN):** Suitable for classifying photos by visible features, which we plan to use by training the CNN to detect color patterns typical of sick trees.\n",
    "- **Clustering Model:** May be useful to detect multiple instances of sick trees within an image, using elbow method to determine number of sick tree instances.\n",
    "- **Classification Model:** Suitable for binary response values, which may be useful to classify healthy vs. sick.\n",
    "\n",
    "\n",
    "\n",
    "## Model Implementations\n",
    "\n",
    "A few different CNN implementations will be tested, primarily as an exploration of how CNNs work.\n",
    "\n",
    "- Implementation 1: Brute-Force Classification Approach\n",
    "\n",
    "\n",
    "- Implementation 2: \n",
    "\n",
    "\n",
    "- Implementation 3?: Repurpose trained model"
   ]
  },
  {
   "cell_type": "markdown",
   "metadata": {
    "id": "fD1l_um-leEw"
   },
   "source": [
    "### Implementation 1: Brute-Force Classification Approach\n",
    "\n",
    "In our first implementation, the Brute-Force Classification Approach, all we will be doing is passing the healthy images and the sick images into a CNN and training it to categorize the images into healthy and sick. This approach is primarily to ensure that we can construct a functioning CNN model as a baseline before attempting more involved strategies.\n",
    "\n",
    "- Training Data:\n",
    "  - Cleaning Steps: Resize Images\n",
    "- Model Architecture\n",
    "  - Convolutional Layers: \n",
    "  - Two Pooling Layers: \n",
    "  - Two Dense Layers:\n",
    "    - 128-unit Relu layer: Learn non-linear transformations of features to capture complex relationships between features.\n",
    "    - 1-unit Sigmoid layer: Filters output into a single binary value: 0 for healthy (lacks sick features), 1 for sick (contains sick features)"
   ]
  },
  {
   "cell_type": "markdown",
   "metadata": {
    "id": "Fv7jR6-iyMSs"
   },
   "source": []
  },
  {
   "cell_type": "code",
   "execution_count": 103,
   "metadata": {},
   "outputs": [],
   "source": [
    "# Load only images that we are interested in for this model\n",
    "brute_force_df = img_df[img_df['classification'].isin(['sick', 'healthy'])]"
   ]
  },
  {
   "cell_type": "code",
   "execution_count": 104,
   "metadata": {},
   "outputs": [],
   "source": [
    "# Define Data Cleaning step for Model\n",
    "default_width, default_height = 225, 225\n",
    "default_size = (default_width, default_height)\n",
    "def clean_data(input_img, resize_width=default_width, resize_height=default_height):\n",
    "    clean_img = input_img\n",
    "    \n",
    "    # Apply Data Cleaning Functions\n",
    "    clean_img = resize_img(clean_img, resize_width, resize_height)\n",
    "    \n",
    "    output_img = clean_img\n",
    "    return output_img"
   ]
  },
  {
   "cell_type": "code",
   "execution_count": 105,
   "metadata": {},
   "outputs": [],
   "source": [
    "# Define Data Augmentation step for model\n",
    "# Apply a number of random transformations on data set to increase the model's accuracy on more general data.\n",
    "# Chosen transformations: rotations, width-shift, height-shift, shear, zoom, horizontal flips\n",
    "train_datagen = ImageDataGenerator(\n",
    "    rescale=1./255,\n",
    "    rotation_range=20,\n",
    "    width_shift_range=0.1,\n",
    "    height_shift_range=0.1,\n",
    "    shear_range=0.1,\n",
    "    zoom_range=0.1,\n",
    "    horizontal_flip=True,\n",
    "    validation_split=0.2,\n",
    "    preprocessing_function=clean_data\n",
    ")"
   ]
  },
  {
   "cell_type": "code",
   "execution_count": 106,
   "metadata": {},
   "outputs": [
    {
     "name": "stdout",
     "output_type": "stream",
     "text": [
      "Found 33 validated image filenames belonging to 2 classes.\n",
      "Found 8 validated image filenames belonging to 2 classes.\n",
      "Epoch 1/10\n",
      "2/2 [==============================] - 5s 2s/step - loss: 1.6954 - accuracy: 0.0909 - val_loss: 3.1397e-04 - val_accuracy: 1.0000\n",
      "Epoch 2/10\n",
      "2/2 [==============================] - 4s 1s/step - loss: 1.1442 - accuracy: 0.8788 - val_loss: 0.6929 - val_accuracy: 0.3750\n",
      "Epoch 3/10\n",
      "2/2 [==============================] - 4s 3s/step - loss: 0.4070 - accuracy: 0.8485 - val_loss: 0.0543 - val_accuracy: 1.0000\n",
      "Epoch 4/10\n",
      "2/2 [==============================] - 4s 961ms/step - loss: 0.4368 - accuracy: 0.8788 - val_loss: 0.0245 - val_accuracy: 1.0000\n",
      "Epoch 5/10\n",
      "2/2 [==============================] - 4s 3s/step - loss: 0.6154 - accuracy: 0.8788 - val_loss: 0.0417 - val_accuracy: 1.0000\n",
      "Epoch 6/10\n",
      "2/2 [==============================] - 4s 1s/step - loss: 0.4713 - accuracy: 0.8788 - val_loss: 0.1923 - val_accuracy: 1.0000\n",
      "Epoch 7/10\n",
      "2/2 [==============================] - 4s 1s/step - loss: 0.3250 - accuracy: 0.8788 - val_loss: 0.1939 - val_accuracy: 1.0000\n",
      "Epoch 8/10\n",
      "2/2 [==============================] - 4s 993ms/step - loss: 0.3149 - accuracy: 0.8788 - val_loss: 0.0903 - val_accuracy: 1.0000\n",
      "Epoch 9/10\n",
      "2/2 [==============================] - 4s 3s/step - loss: 0.4959 - accuracy: 0.8788 - val_loss: 0.0438 - val_accuracy: 1.0000\n",
      "Epoch 10/10\n",
      "2/2 [==============================] - 4s 3s/step - loss: 0.4683 - accuracy: 0.8788 - val_loss: 0.0598 - val_accuracy: 1.0000\n"
     ]
    }
   ],
   "source": [
    "# Use tensorflow's Data Generator to create training and validation sets\n",
    "train_generator = train_datagen.flow_from_dataframe(\n",
    "    dataframe=brute_force_df,\n",
    "    x_col='file_name',\n",
    "    y_col='classification',\n",
    "    target_size=(default_width, default_height),\n",
    "    batch_size=32,\n",
    "    class_mode='categorical',\n",
    "    subset='training'\n",
    ")\n",
    "validation_generator = train_datagen.flow_from_dataframe(\n",
    "    dataframe=brute_force_df,\n",
    "    x_col='file_name',\n",
    "    y_col='classification',\n",
    "    target_size=(default_width, default_height),\n",
    "    batch_size=32,\n",
    "    class_mode='categorical',\n",
    "    subset='validation'\n",
    ")\n",
    "\n",
    "# Build model with chosen layers\n",
    "model = tf.keras.models.Sequential([\n",
    "    tf.keras.layers.Conv2D(32, (3, 3), activation='relu', input_shape=(224, 224, 3)),\n",
    "    tf.keras.layers.MaxPooling2D(2, 2),\n",
    "    tf.keras.layers.Conv2D(64, (3, 3), activation='relu'),\n",
    "    tf.keras.layers.MaxPooling2D(2, 2),\n",
    "    tf.keras.layers.Conv2D(128, (3, 3), activation='relu'),\n",
    "    tf.keras.layers.MaxPooling2D(2, 2),\n",
    "    tf.keras.layers.Flatten(),\n",
    "    tf.keras.layers.Dense(512, activation='relu'),\n",
    "    tf.keras.layers.Dense(2, activation='softmax')\n",
    "])\n",
    "\n",
    "# Compile the model\n",
    "model.compile(loss='categorical_crossentropy', optimizer='adam', metrics=['accuracy'])\n",
    "\n",
    "# Train the model\n",
    "history = model.fit(train_generator, epochs=10, validation_data=validation_generator)"
   ]
  },
  {
   "cell_type": "markdown",
   "metadata": {
    "id": "_qL4WiqIllya"
   },
   "source": [
    "#### **Results and Discussion:** Brute-Force Classification Approach"
   ]
  },
  {
   "cell_type": "code",
   "execution_count": 107,
   "metadata": {},
   "outputs": [
    {
     "name": "stdout",
     "output_type": "stream",
     "text": [
      "1/1 [==============================] - 1s 521ms/step - loss: 0.0663 - accuracy: 1.0000\n",
      "Validation loss: 0.06630673259496689\n",
      "Validation accuracy: 1.0\n"
     ]
    }
   ],
   "source": [
    "# Get the number of validation steps\n",
    "validation_steps = validation_generator.samples / validation_generator.batch_size\n",
    "\n",
    "# Evaluate the model on the validation data\n",
    "loss, accuracy = model.evaluate(validation_generator)\n",
    "\n",
    "print(f\"Validation loss: {loss}\")\n",
    "print(f\"Validation accuracy: {accuracy}\")"
   ]
  },
  {
   "cell_type": "markdown",
   "metadata": {},
   "source": [
    "With an end validation loss of 0.620 and a validation accuracy of 63.6%, the model appears to be fairly effective at classifying the images into healthy vs. sick.\n",
    "\n",
    "However, I don't have much confidence in a result this good for the **Brute-Force** Classification Approach. During training, the model's accuracy was high from the start and remained about equally this high throughout training. To me, this is highly suspicious."
   ]
  },
  {
   "cell_type": "code",
   "execution_count": 108,
   "metadata": {},
   "outputs": [
    {
     "data": {
      "image/png": "[encoded data removed]",
      "text/plain": [
       "<Figure size 1200x400 with 2 Axes>"
      ]
     },
     "metadata": {},
     "output_type": "display_data"
    }
   ],
   "source": [
    "train_loss = history.history['loss']\n",
    "train_accuracy = history.history['accuracy']\n",
    "validation_loss = history.history['val_loss']\n",
    "validation_accuracy = history.history['val_accuracy']\n",
    "\n",
    "# Plot Loss and Accuracy throughout training\n",
    "fig, (ax1, ax2) = plt.subplots(1, 2, figsize=(12, 4))\n",
    "\n",
    "ax1.plot(train_loss, label='Training Loss')\n",
    "ax1.plot(validation_loss, label='Validation Loss')\n",
    "ax1.set_title('Loss vs. Epochs')\n",
    "ax1.set_xlabel('Epochs')\n",
    "ax1.set_ylabel('Loss')\n",
    "ax1.legend()\n",
    "\n",
    "ax2.plot(train_accuracy, label='Training Accuracy')\n",
    "ax2.plot(validation_accuracy, label='Validation Accuracy')\n",
    "ax2.set_title('Accuracy vs. Epochs')\n",
    "ax2.set_xlabel('Epochs')\n",
    "ax2.set_ylabel('Accuracy')\n",
    "ax2.legend()\n",
    "\n",
    "# Show the plots\n",
    "plt.tight_layout()\n",
    "plt.show()"
   ]
  },
  {
   "cell_type": "markdown",
   "metadata": {},
   "source": [
    "I suspect that due to the limited sample size of our data (only 60 images is not much), there are trends in the images that correlate to the healthy vs sick image samples that are unrelated to the sick features of the trees. For example, visually inspecting the data shows that many of the healthy tree images contain the sky, and none of the sick images do. The healthy tree images also happen to be on average more exposed than sick images.\n",
    "\n",
    "Because this is a classification approach, a visualization technique other than image labeling is not possible. As such, we'll need to modify our model to classify images as well as locate the sick features."
   ]
  },
  {
   "cell_type": "markdown",
   "metadata": {},
   "source": [
    "### Implementation 2: Localization Approach\n",
    "\n",
    "\n",
    "Yeah pretty much this entire section is garbage so far. I tried setting up the model to output the classification as well as the bounding box of the feature, but kept running into errors, so I'm going to bed!"
   ]
  },
  {
   "cell_type": "code",
   "execution_count": 78,
   "metadata": {},
   "outputs": [],
   "source": [
    "# Load only images that we are interested in for this model\n",
    "localization_df = img_df[img_df['classification'].isin(['sick', 'healthy'])]"
   ]
  },
  {
   "cell_type": "code",
   "execution_count": 91,
   "metadata": {},
   "outputs": [],
   "source": [
    "# Define Data Cleaning step for Model\n",
    "default_width, default_height = 224, 224\n",
    "default_size = (default_width, default_height)\n",
    "def clean_data(input_img, resize_width=default_width, resize_height=default_height):\n",
    "    clean_img = input_img\n",
    "    \n",
    "    # Apply Data Cleaning Functions\n",
    "    clean_img = resize_img(clean_img, resize_width, resize_height)\n",
    "    \n",
    "    output_img = clean_img\n",
    "    return output_img"
   ]
  },
  {
   "cell_type": "code",
   "execution_count": 96,
   "metadata": {},
   "outputs": [],
   "source": [
    "# Define Data Augmentation step for model\n",
    "# Apply a number of random transformations on data set to increase the model's accuracy on more general data.\n",
    "# Chosen transformations: rotations, width-shift, height-shift, shear, zoom, horizontal flips\n",
    "\n",
    "class MultiOutputDataGenerator(ImageDataGenerator):\n",
    "    def flow_from_dataframe(self, dataframe, *args, **kwargs):\n",
    "        dataframe = dataframe.copy()\n",
    "        dataframe['multi_output_label'] = dataframe.apply(\n",
    "            lambda row: [row['classification']] + [row['x'], row['y'], row['width'], row['height']], axis=1\n",
    "        )\n",
    "        return super().flow_from_dataframe(dataframe, y_col='multi_output_label', *args, **kwargs)\n",
    "    \n",
    "    def _get_batches_of_transformed_samples(self, index_array):\n",
    "        batch_x, batch_y = super()._get_batches_of_transformed_samples(index_array)\n",
    "\n",
    "        # Split the multi_output_label into two separate tensors\n",
    "        batch_y_class = np.asarray([label[0] for label in batch_y])\n",
    "        batch_y_bbox = np.asarray([label[1:] for label in batch_y])\n",
    "\n",
    "        # One-hot encode the class labels\n",
    "        batch_y_class = tf.keras.utils.to_categorical(batch_y_class, num_classes=2)\n",
    "\n",
    "        # Return the images and the two tensors for classification and bounding box coordinates\n",
    "        return batch_x, [batch_y_class, batch_y_bbox]\n",
    "\n",
    "    \n"
   ]
  },
  {
   "cell_type": "code",
   "execution_count": 97,
   "metadata": {},
   "outputs": [],
   "source": [
    "# Define a new loss function, combining both the classification and localization loss functions\n",
    "\n",
    "def combined_loss(y_true, y_pred):\n",
    "    # Calculate classification loss\n",
    "    class_true = y_true[:, :-4]\n",
    "    class_pred = y_pred[:, :-4]\n",
    "    class_loss = tf.keras.losses.categorical_crossentropy(class_true, class_pred)\n",
    "\n",
    "    # Calculate bounding box loss\n",
    "    bbox_true = y_true[:, -4:]\n",
    "    bbox_pred = y_pred[:, -4:]\n",
    "    bbox_loss = tf.keras.losses.mean_squared_error(bbox_true, bbox_pred)\n",
    "\n",
    "    # Combine and return the losses\n",
    "    return class_loss + bbox_loss"
   ]
  },
  {
   "cell_type": "code",
   "execution_count": 98,
   "metadata": {},
   "outputs": [],
   "source": [
    "train_datagen = MultiOutputDataGenerator(\n",
    "    rescale=1./255,\n",
    "    rotation_range=20,\n",
    "    width_shift_range=0.1,\n",
    "    height_shift_range=0.1,\n",
    "    shear_range=0.1,\n",
    "    zoom_range=0.1,\n",
    "    horizontal_flip=True,\n",
    "    validation_split=0.2\n",
    ")\n",
    "\n",
    "validation_datagen = MultiOutputDataGenerator(\n",
    "    rescale=1./255,\n",
    "    validation_split=0.2\n",
    ")\n"
   ]
  },
  {
   "cell_type": "code",
   "execution_count": 99,
   "metadata": {},
   "outputs": [
    {
     "name": "stdout",
     "output_type": "stream",
     "text": [
      "Epoch 1/10\n"
     ]
    },
    {
     "ename": "AttributeError",
     "evalue": "in user code:\n\n    File \"C:\\Users\\theca\\anaconda3\\envs\\Ch2_Env\\lib\\site-packages\\keras\\engine\\training.py\", line 1284, in train_function  *\n        return step_function(self, iterator)\n    File \"C:\\Users\\theca\\anaconda3\\envs\\Ch2_Env\\lib\\site-packages\\keras\\engine\\training.py\", line 1268, in step_function  **\n        outputs = model.distribute_strategy.run(run_step, args=(data,))\n    File \"C:\\Users\\theca\\anaconda3\\envs\\Ch2_Env\\lib\\site-packages\\keras\\engine\\training.py\", line 1249, in run_step  **\n        outputs = model.train_step(data)\n    File \"C:\\Users\\theca\\anaconda3\\envs\\Ch2_Env\\lib\\site-packages\\keras\\engine\\training.py\", line 1055, in train_step\n        return self.compute_metrics(x, y, y_pred, sample_weight)\n    File \"C:\\Users\\theca\\anaconda3\\envs\\Ch2_Env\\lib\\site-packages\\keras\\engine\\training.py\", line 1149, in compute_metrics\n        self.compiled_metrics.update_state(y, y_pred, sample_weight)\n    File \"C:\\Users\\theca\\anaconda3\\envs\\Ch2_Env\\lib\\site-packages\\keras\\engine\\compile_utils.py\", line 577, in update_state\n        self.build(y_pred, y_true)\n    File \"C:\\Users\\theca\\anaconda3\\envs\\Ch2_Env\\lib\\site-packages\\keras\\engine\\compile_utils.py\", line 483, in build\n        self._metrics = tf.__internal__.nest.map_structure_up_to(\n    File \"C:\\Users\\theca\\anaconda3\\envs\\Ch2_Env\\lib\\site-packages\\keras\\engine\\compile_utils.py\", line 631, in _get_metric_objects\n        return [self._get_metric_object(m, y_t, y_p) for m in metrics]\n    File \"C:\\Users\\theca\\anaconda3\\envs\\Ch2_Env\\lib\\site-packages\\keras\\engine\\compile_utils.py\", line 631, in <listcomp>\n        return [self._get_metric_object(m, y_t, y_p) for m in metrics]\n    File \"C:\\Users\\theca\\anaconda3\\envs\\Ch2_Env\\lib\\site-packages\\keras\\engine\\compile_utils.py\", line 652, in _get_metric_object\n        y_t_rank = len(y_t.shape.as_list())\n\n    AttributeError: 'tuple' object has no attribute 'shape'\n",
     "output_type": "error",
     "traceback": [
      "\u001b[1;31m---------------------------------------------------------------------------\u001b[0m",
      "\u001b[1;31mAttributeError\u001b[0m                            Traceback (most recent call last)",
      "Cell \u001b[1;32mIn[99], line 32\u001b[0m\n\u001b[0;32m     29\u001b[0m model\u001b[38;5;241m.\u001b[39mcompile(loss\u001b[38;5;241m=\u001b[39mcombined_loss, optimizer\u001b[38;5;241m=\u001b[39m\u001b[38;5;124m'\u001b[39m\u001b[38;5;124madam\u001b[39m\u001b[38;5;124m'\u001b[39m, metrics\u001b[38;5;241m=\u001b[39m[\u001b[38;5;124m'\u001b[39m\u001b[38;5;124maccuracy\u001b[39m\u001b[38;5;124m'\u001b[39m])\n\u001b[0;32m     31\u001b[0m \u001b[38;5;66;03m# Train the model\u001b[39;00m\n\u001b[1;32m---> 32\u001b[0m history \u001b[38;5;241m=\u001b[39m \u001b[43mmodel\u001b[49m\u001b[38;5;241;43m.\u001b[39;49m\u001b[43mfit\u001b[49m\u001b[43m(\u001b[49m\u001b[43mtrain_generator\u001b[49m\u001b[43m,\u001b[49m\u001b[43m \u001b[49m\u001b[43mepochs\u001b[49m\u001b[38;5;241;43m=\u001b[39;49m\u001b[38;5;241;43m10\u001b[39;49m\u001b[43m,\u001b[49m\u001b[43m \u001b[49m\u001b[43mvalidation_data\u001b[49m\u001b[38;5;241;43m=\u001b[39;49m\u001b[43mvalidation_generator\u001b[49m\u001b[43m)\u001b[49m\n",
      "File \u001b[1;32m~\\anaconda3\\envs\\Ch2_Env\\lib\\site-packages\\keras\\utils\\traceback_utils.py:70\u001b[0m, in \u001b[0;36mfilter_traceback.<locals>.error_handler\u001b[1;34m(*args, **kwargs)\u001b[0m\n\u001b[0;32m     67\u001b[0m     filtered_tb \u001b[38;5;241m=\u001b[39m _process_traceback_frames(e\u001b[38;5;241m.\u001b[39m__traceback__)\n\u001b[0;32m     68\u001b[0m     \u001b[38;5;66;03m# To get the full stack trace, call:\u001b[39;00m\n\u001b[0;32m     69\u001b[0m     \u001b[38;5;66;03m# `tf.debugging.disable_traceback_filtering()`\u001b[39;00m\n\u001b[1;32m---> 70\u001b[0m     \u001b[38;5;28;01mraise\u001b[39;00m e\u001b[38;5;241m.\u001b[39mwith_traceback(filtered_tb) \u001b[38;5;28;01mfrom\u001b[39;00m \u001b[38;5;28mNone\u001b[39m\n\u001b[0;32m     71\u001b[0m \u001b[38;5;28;01mfinally\u001b[39;00m:\n\u001b[0;32m     72\u001b[0m     \u001b[38;5;28;01mdel\u001b[39;00m filtered_tb\n",
      "File \u001b[1;32m~\\AppData\\Local\\Temp\\__autograph_generated_files3_lsd2s.py:15\u001b[0m, in \u001b[0;36mouter_factory.<locals>.inner_factory.<locals>.tf__train_function\u001b[1;34m(iterator)\u001b[0m\n\u001b[0;32m     13\u001b[0m \u001b[38;5;28;01mtry\u001b[39;00m:\n\u001b[0;32m     14\u001b[0m     do_return \u001b[38;5;241m=\u001b[39m \u001b[38;5;28;01mTrue\u001b[39;00m\n\u001b[1;32m---> 15\u001b[0m     retval_ \u001b[38;5;241m=\u001b[39m ag__\u001b[38;5;241m.\u001b[39mconverted_call(ag__\u001b[38;5;241m.\u001b[39mld(step_function), (ag__\u001b[38;5;241m.\u001b[39mld(\u001b[38;5;28mself\u001b[39m), ag__\u001b[38;5;241m.\u001b[39mld(iterator)), \u001b[38;5;28;01mNone\u001b[39;00m, fscope)\n\u001b[0;32m     16\u001b[0m \u001b[38;5;28;01mexcept\u001b[39;00m:\n\u001b[0;32m     17\u001b[0m     do_return \u001b[38;5;241m=\u001b[39m \u001b[38;5;28;01mFalse\u001b[39;00m\n",
      "\u001b[1;31mAttributeError\u001b[0m: in user code:\n\n    File \"C:\\Users\\theca\\anaconda3\\envs\\Ch2_Env\\lib\\site-packages\\keras\\engine\\training.py\", line 1284, in train_function  *\n        return step_function(self, iterator)\n    File \"C:\\Users\\theca\\anaconda3\\envs\\Ch2_Env\\lib\\site-packages\\keras\\engine\\training.py\", line 1268, in step_function  **\n        outputs = model.distribute_strategy.run(run_step, args=(data,))\n    File \"C:\\Users\\theca\\anaconda3\\envs\\Ch2_Env\\lib\\site-packages\\keras\\engine\\training.py\", line 1249, in run_step  **\n        outputs = model.train_step(data)\n    File \"C:\\Users\\theca\\anaconda3\\envs\\Ch2_Env\\lib\\site-packages\\keras\\engine\\training.py\", line 1055, in train_step\n        return self.compute_metrics(x, y, y_pred, sample_weight)\n    File \"C:\\Users\\theca\\anaconda3\\envs\\Ch2_Env\\lib\\site-packages\\keras\\engine\\training.py\", line 1149, in compute_metrics\n        self.compiled_metrics.update_state(y, y_pred, sample_weight)\n    File \"C:\\Users\\theca\\anaconda3\\envs\\Ch2_Env\\lib\\site-packages\\keras\\engine\\compile_utils.py\", line 577, in update_state\n        self.build(y_pred, y_true)\n    File \"C:\\Users\\theca\\anaconda3\\envs\\Ch2_Env\\lib\\site-packages\\keras\\engine\\compile_utils.py\", line 483, in build\n        self._metrics = tf.__internal__.nest.map_structure_up_to(\n    File \"C:\\Users\\theca\\anaconda3\\envs\\Ch2_Env\\lib\\site-packages\\keras\\engine\\compile_utils.py\", line 631, in _get_metric_objects\n        return [self._get_metric_object(m, y_t, y_p) for m in metrics]\n    File \"C:\\Users\\theca\\anaconda3\\envs\\Ch2_Env\\lib\\site-packages\\keras\\engine\\compile_utils.py\", line 631, in <listcomp>\n        return [self._get_metric_object(m, y_t, y_p) for m in metrics]\n    File \"C:\\Users\\theca\\anaconda3\\envs\\Ch2_Env\\lib\\site-packages\\keras\\engine\\compile_utils.py\", line 652, in _get_metric_object\n        y_t_rank = len(y_t.shape.as_list())\n\n    AttributeError: 'tuple' object has no attribute 'shape'\n"
     ]
    }
   ],
   "source": [
    "\n",
    "\n",
    "# Build model with chosen layers\n",
    "model = tf.keras.models.Sequential([\n",
    "    tf.keras.layers.Conv2D(32, (3, 3), activation='relu', input_shape=(224, 224, 3)),\n",
    "    tf.keras.layers.MaxPooling2D(2, 2),\n",
    "    tf.keras.layers.Conv2D(64, (3, 3), activation='relu'),\n",
    "    tf.keras.layers.MaxPooling2D(2, 2),\n",
    "    tf.keras.layers.Conv2D(128, (3, 3), activation='relu'),\n",
    "    tf.keras.layers.MaxPooling2D(2, 2),\n",
    "    tf.keras.layers.Flatten(),\n",
    "    tf.keras.layers.Dense(512, activation='relu'),\n",
    "    tf.keras.layers.Dense(2, activation='softmax')\n",
    "])\n",
    "\n",
    "# Classification branch\n",
    "classification_branch = tf.keras.layers.Dense(2, activation='softmax', name='classification_output')(model.layers[-2].output)\n",
    "\n",
    "# Bounding box branch\n",
    "bbox_branch = tf.keras.layers.Dense(4, name='bbox_output')(model.layers[-2].output)\n",
    "\n",
    "# Combine the two branches\n",
    "final_output = [classification_branch, bbox_branch]\n",
    "\n",
    "# Build the final model\n",
    "final_model = tf.keras.Model(inputs=model.input, outputs=final_output)\n",
    "\n",
    "\n",
    "\n",
    "# Compile the model\n",
    "model.compile(loss=combined_loss, optimizer='adam', metrics=['accuracy'])\n",
    "\n",
    "# Train the model\n",
    "history = model.fit(train_generator, epochs=10, validation_data=validation_generator)"
   ]
  },
  {
   "cell_type": "markdown",
   "metadata": {
    "id": "_qL4WiqIllya"
   },
   "source": [
    "#### **Results and Discussion:** Brute-Force Classification Approach"
   ]
  },
  {
   "cell_type": "code",
   "execution_count": null,
   "metadata": {},
   "outputs": [],
   "source": [
    "# Get the number of validation steps\n",
    "validation_steps = validation_generator.samples / validation_generator.batch_size\n",
    "\n",
    "# Evaluate the model on the validation data\n",
    "loss, accuracy = model.evaluate(validation_generator)\n",
    "\n",
    "print(f\"Validation loss: {loss}\")\n",
    "print(f\"Validation accuracy: {accuracy}\")"
   ]
  },
  {
   "cell_type": "markdown",
   "metadata": {},
   "source": [
    "With an end validation loss of 0.620 and a validation accuracy of 63.6%, the model appears to be fairly effective at classifying the images into healthy vs. sick.\n",
    "\n",
    "However, I don't have much confidence in a result this good for the **Brute-Force** Classification Approach. During training, the model's accuracy was high from the start and remained about equally this high throughout training. To me, this is highly suspicious."
   ]
  },
  {
   "cell_type": "code",
   "execution_count": 14,
   "metadata": {},
   "outputs": [
    {
     "data": {
      "image/png": "[encoded data removed]",
      "text/plain": [
       "<Figure size 1200x400 with 2 Axes>"
      ]
     },
     "metadata": {},
     "output_type": "display_data"
    }
   ],
   "source": [
    "train_loss = history.history['loss']\n",
    "train_accuracy = history.history['accuracy']\n",
    "validation_loss = history.history['val_loss']\n",
    "validation_accuracy = history.history['val_accuracy']\n",
    "\n",
    "# Plot Loss and Accuracy throughout training\n",
    "fig, (ax1, ax2) = plt.subplots(1, 2, figsize=(12, 4))\n",
    "\n",
    "ax1.plot(train_loss, label='Training Loss')\n",
    "ax1.plot(validation_loss, label='Validation Loss')\n",
    "ax1.set_title('Loss vs. Epochs')\n",
    "ax1.set_xlabel('Epochs')\n",
    "ax1.set_ylabel('Loss')\n",
    "ax1.legend()\n",
    "\n",
    "ax2.plot(train_accuracy, label='Training Accuracy')\n",
    "ax2.plot(validation_accuracy, label='Validation Accuracy')\n",
    "ax2.set_title('Accuracy vs. Epochs')\n",
    "ax2.set_xlabel('Epochs')\n",
    "ax2.set_ylabel('Accuracy')\n",
    "ax2.legend()\n",
    "\n",
    "# Show the plots\n",
    "plt.tight_layout()\n",
    "plt.show()"
   ]
  }
 ],
 "metadata": {
  "colab": {
   "collapsed_sections": [
    "0TVFToS1fJLn",
    "8gYgXQL_jooH"
   ],
   "provenance": []
  },
  "kernelspec": {
   "display_name": "Python 3 (ipykernel)",
   "language": "python",
   "name": "python3"
  },
  "language_info": {
   "codemirror_mode": {
    "name": "ipython",
    "version": 3
   },
   "file_extension": ".py",
   "mimetype": "text/x-python",
   "name": "python",
   "nbconvert_exporter": "python",
   "pygments_lexer": "ipython3",
   "version": "3.9.16"
  }
 },
 "nbformat": 4,
 "nbformat_minor": 1
}
